{
 "cells": [
  {
   "cell_type": "markdown",
   "metadata": {},
   "source": [
    "# El siguiente documento es la continuacion una vez creado el sistema de recomendacion para guardar la compilacion para ser usada en la API de Flask"
   ]
  },
  {
   "cell_type": "markdown",
   "metadata": {},
   "source": [
    "## Definimos las librerias necesarias a utilizar"
   ]
  },
  {
   "cell_type": "code",
   "execution_count": null,
   "metadata": {},
   "outputs": [],
   "source": [
    "import joblib\n",
    "from sklearn.svm import SVC\n",
    "from sklearn.model_selection import train_test_split"
   ]
  },
  {
   "cell_type": "markdown",
   "metadata": {},
   "source": [
    "## Definimos los grados para hacer la division de los sistemas de recomendacion por grado"
   ]
  },
  {
   "cell_type": "code",
   "execution_count": null,
   "metadata": {},
   "outputs": [],
   "source": [
    "grade_levels = (1, 2, 3, 4, 5, 6)"
   ]
  },
  {
   "cell_type": "markdown",
   "metadata": {},
   "source": [
    "## Iteramos los grados y ejecutamos el sistema de recomendacion para guardarlo en nuestro archivos `pkl` que usaremos en la API de flask"
   ]
  },
  {
   "cell_type": "code",
   "execution_count": null,
   "metadata": {},
   "outputs": [],
   "source": [
    "\n",
    "for level in grade_levels:\n",
    "    df_level = df[df['level'] == level]\n",
    "    X = df_level[['score', 'time']].values\n",
    "    y = df_level['aprendio'].values\n",
    "\n",
    "    X_train, X_test, y_train, y_test = train_test_split(X, y, test_size=0.2, random_state=42)\n",
    "\n",
    "    svm = SVC(kernel='rbf', C=1, gamma=0.1)\n",
    "    svm.fit(X_train, y_train)\n",
    "\n",
    "    joblib.dump(svm, f'svm_model_grade_{level}.pkl')\n",
    "\n",
    "    scaler = StandardScaler().fit(X_train)\n",
    "    joblib.dump(scaler, f'scaler_grade_{level}.pkl')"
   ]
  }
 ],
 "metadata": {
  "language_info": {
   "name": "python"
  }
 },
 "nbformat": 4,
 "nbformat_minor": 2
}
