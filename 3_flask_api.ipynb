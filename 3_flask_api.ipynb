{
 "cells": [
  {
   "cell_type": "markdown",
   "metadata": {},
   "source": [
    "# En el presente archivo es la conclusion del uso del sistema de recomendacion con la API de Flask"
   ]
  },
  {
   "cell_type": "markdown",
   "metadata": {},
   "source": [
    "## Importaciones de las librerias necesarias para la API"
   ]
  },
  {
   "cell_type": "code",
   "execution_count": null,
   "metadata": {},
   "outputs": [],
   "source": [
    "from flask import Flask, request, jsonify\n",
    "import joblib\n",
    "import numpy as np"
   ]
  },
  {
   "cell_type": "markdown",
   "metadata": {},
   "source": [
    "## Creacion de la API de flask con un endpoint metodo POST `/predict` en la cual se leera el `level`, `score` y `time` para pasarlo al sistema de recomendacion y obtener el resultado"
   ]
  },
  {
   "cell_type": "code",
   "execution_count": null,
   "metadata": {},
   "outputs": [],
   "source": [
    "app = Flask(__name__)\n",
    "\n",
    "models = {}\n",
    "scalers = {}\n",
    "\n",
    "for level in range(1, 7):\n",
    "    models[level] = joblib.load(f'svm_model_grade_{level}.pkl')\n",
    "    scalers[level] = joblib.load(f'scaler_grade_{level}.pkl')\n",
    "\n",
    "@app.route('/predict', methods=['POST']) \n",
    "def predict():\n",
    "    data = request.json\n",
    "    level = data['level']\n",
    "    score = data['score']\n",
    "    time = data['time']\n",
    "\n",
    "    normalized_score = score / average_scores_by_level[level]\n",
    "    normalized_time = time / average_time_by_level[level]\n",
    "\n",
    "    features = np.array([[normalized_score, normalized_time]])\n",
    "    features = scalers[level].transform(features)\n",
    "\n",
    "    model = models[level]\n",
    "    prediction = model.predict(features)\n",
    "\n",
    "    if prediction[0] == 'NO APRENDIO':\n",
    "        recommendation = \"Disminuye un nivel para consolidar conocimientos\"\n",
    "    else:\n",
    "        # A nivel del videojuego se avanzara al siguiente nivel de manera automatica una vez leido el mensaje de respuesta\n",
    "        recommendation = \"Muy bien, avanza al siguiente nivel para seguir aprendiendo\"\n",
    "\n",
    "    return jsonify({\n",
    "        'prediction': prediction[0],\n",
    "        'recommendation': recommendation\n",
    "    })\n",
    "\n",
    "if __name__ == '__main__':\n",
    "    app.run(debug=True)"
   ]
  }
 ],
 "metadata": {
  "language_info": {
   "name": "python"
  }
 },
 "nbformat": 4,
 "nbformat_minor": 2
}
