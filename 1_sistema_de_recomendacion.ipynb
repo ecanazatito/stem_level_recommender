{
 "cells": [
  {
   "cell_type": "markdown",
   "metadata": {},
   "source": [
    "# El presente archivo es la primera parte sobre como se crea el sistema de recomendacion usando SVC para la clasificacion de los resultados de aprendizaje"
   ]
  },
  {
   "cell_type": "markdown",
   "metadata": {},
   "source": [
    "## Importamos las librerias necesarias, para este caso usaremos SVC"
   ]
  },
  {
   "cell_type": "code",
   "execution_count": null,
   "metadata": {},
   "outputs": [],
   "source": [
    "from sklearn.svm import SVC\n",
    "from sklearn.preprocessing import StandardScaler\n",
    "from sklearn.model_selection import train_test_split, GridSearchCV\n",
    "from sklearn.metrics import accuracy_score"
   ]
  },
  {
   "cell_type": "markdown",
   "metadata": {},
   "source": [
    "## Iteramos la diferente data dividida entre los grados y asi tener un sistema de recomendacion para cada grado para que sea mas especifica la clasificacion"
   ]
  },
  {
   "cell_type": "code",
   "execution_count": null,
   "metadata": {},
   "outputs": [],
   "source": [
    "\n",
    "grade_levels = df['level'].unique()\n",
    "\n",
    "models = {}\n",
    "\n",
    "for level in grade_levels:\n",
    "    df_level = df[df['level'] == level]\n",
    "\n",
    "    X, y = preprocess_data(df_level)\n",
    "\n",
    "    X_train, X_test, y_train, y_test = train_test_split(X, y, test_size=0.2, random_state=42)\n",
    "\n",
    "    scaler = StandardScaler()\n",
    "    X_train = scaler.fit_transform(X_train)\n",
    "    X_test = scaler.transform(X_test)\n",
    "\n",
    "    svm = SVC(kernel='rbf')\n",
    "    param_grid = {\n",
    "        'C': [0.1, 1, 10, 100],\n",
    "        'gamma': [1, 0.1, 0.01, 0.001],\n",
    "    }\n",
    "    grid_search = GridSearchCV(svm, param_grid, cv=5)\n",
    "    grid_search.fit(X_train, y_train)\n",
    "\n",
    "    models[level] = grid_search.best_estimator_\n",
    "\n",
    "    y_pred = models[level].predict(X_test)\n",
    "    accuracy = accuracy_score(y_test, y_pred)\n",
    "    print(f'Accuracy for level {level}: {accuracy:.2f}')"
   ]
  },
  {
   "cell_type": "markdown",
   "metadata": {},
   "source": [
    "## Funcion que sirve para hacer la prediccion de los resultados por grado segun la nueva data y el nivel"
   ]
  },
  {
   "cell_type": "code",
   "execution_count": null,
   "metadata": {},
   "outputs": [],
   "source": [
    "def predict_for_grade_level(level, new_student_data):\n",
    "    model = models[level]\n",
    "\n",
    "    normalized_score = new_student_data['score'] / avg_scores_by_level[level]\n",
    "    normalized_time = new_student_data['time'] / avg_time_by_level[level]\n",
    "    new_features = scaler.transform([[normalized_score, normalized_time]])\n",
    "\n",
    "    prediction = model.predict(new_features)\n",
    "    return prediction\n"
   ]
  }
 ],
 "metadata": {
  "language_info": {
   "name": "python"
  }
 },
 "nbformat": 4,
 "nbformat_minor": 2
}
